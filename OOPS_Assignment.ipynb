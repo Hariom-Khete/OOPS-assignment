{
  "nbformat": 4,
  "nbformat_minor": 0,
  "metadata": {
    "colab": {
      "provenance": []
    },
    "kernelspec": {
      "name": "python3",
      "display_name": "Python 3"
    },
    "language_info": {
      "name": "python"
    }
  },
  "cells": [
    {
      "cell_type": "markdown",
      "source": [
        "#OOPS Assignment"
      ],
      "metadata": {
        "id": "4CLsurOY6fDt"
      }
    },
    {
      "cell_type": "markdown",
      "source": [
        "Q1. What is Object-Oriented Programming (OOP)?\n",
        " - Object-Oriented Programming (OOP) is a programming paradigm that organizes and models software design around objects rather than actions or logic. Objects are instances of classes, which are blueprints that define the structure and behavior of the objects. OOP makes code more modular, reusable, and easier to maintain.\n",
        "\n",
        "Q2. What is a class in OOP?\n",
        " -  a class is a blueprint or template for creating objects. It defines the structure and behavior that the objects (instances of the class) will have. A class typically contains attributes and methods\n",
        "\n",
        "Q3. What is an object in OOP?\n",
        " -  An object is an instance of a class. It represents a real-world  concept and is created based on the class .\n",
        "\n",
        "Q4. What is the difference between abstraction and encapsulation?\n",
        " - Abstraction is the process of hiding the complex implementation details of a system and exposing only the essential features to the user.Whereas\n",
        " - Encapsulation is the process of bundling data (attributes) and methods (functions) together into a single unit (class) and restricting direct access to some of the object's components.\n",
        "\n",
        "Q5. What are dunder methods in Python ?\n",
        " - Dunder methods are special methods in Python with names that begin and end with double underscores e.g., __init__, __str__ . They are also called magic methods because they allow you to override or customize the behavior of built-in operations and provide special functionality for user-defined objects.\n",
        "\n",
        "Q6. Explain the concept of inheritance in OOP.\n",
        " - Inheritance is a concept in Object-Oriented Programming  that allows one class (child class ) to inherit properties and behaviors (attributes and methods) from another class (parent class). This promotes code reuse and establishes a relationship between classes.\n",
        "\n",
        "Q7. What is polymorphism in OOP ?\n",
        " - Polymorphism is a concept in Object-Oriented Programming (OOPS) that allows objects of different classes to be treated as objects of a common superclass. It enables a single interface to represent different underlying forms (data types).\n",
        "\n",
        "Q8. How is encapsulation achieved in Python?\n",
        " - Encapsulation is an Object-Oriented Programming (OOP) principle that restricts direct access to some of an object's attributes and methods to protect the integrity of the data. It hides the internal implementation details from the outside world and exposes only what is necessary.\n",
        " - It is done using public , private and protected access modifiers.\n",
        "\n",
        "Q9. What is a constructor in Python ?\n",
        " - In Python, a constructor is a special method that is automatically called when a new object of a class is created. The primary purpose of a constructor is to initialize the object's attributes (or properties) and set up its initial state. We use __init__ method as a constructor.\n",
        "\n",
        "Q10. What are class and static methods in Python ?\n",
        " - A class method is a method that operates on the class itself, not on an individual instance of the class. It has access to the class (and not the instance) and can modify class-level data.\n",
        "\n",
        " - A static method is a method that does not depend on the class or instance. It behaves like a regular function but belongs to the class. It does not access or modify class or instance attributes.\n",
        "\n",
        "Q11. What is method overloading in Python?\n",
        " - In Python, method overloading refers to the ability to define multiple methods with the same name but with different parameter lists.\n",
        " - For this we use default parameters in functions , argument types and other ways.\n",
        "\n",
        "Q12. What is method overriding in OOP?\n",
        " - Method overriding in Object-Oriented Programming (OOP) refers to the ability of a subclass to provide a specific implementation of a method that is already defined in its superclass. This allows the subclass to change or extend the behavior of the inherited method without modifying the original method in the superclass.\n",
        "\n",
        "Q13.  What is a property decorator in Python ?\n",
        " - The property decorator in Python is used to define a method as a getter for an attribute. It allows you to define a method that can be accessed like an attribute, but with added functionality, such as validation, computation, or other logic. This way, you can define methods that behave like attributes, providing a more controlled interface to the object.\n",
        "\n",
        "Q14. Why is polymorphism important in OOP ?\n",
        " - Polymorphism plays a vital role in making OOP systems flexible, scalable, and maintainable. Polymorphism allows objects of different classes to be treated as objects of a common superclass, enabling different objects to respond to the same method in different ways.\n",
        "\n",
        "Q15. What is an abstract class in Python ?\n",
        " - An abstract class in Python is a class that cannot be instantiated on its own and is meant to be subclassed. It provides a blueprint for other classes, where certain methods are defined but left unimplemented. The subclass that inherits from the abstract class must implement these methods.\n",
        "\n",
        "Q16.  What are the advantages of OOP ?\n",
        " - Object-Oriented Programming (OOP) offers several significant advantages that make it a popular paradigm for designing and organizing code in large-scale, complex systems. The key advantages of OOP include Code Reusability ,Encapsulation, Inheritance, Polymorphism\n",
        " and Maintainability and Extensibility .\n",
        "\n",
        "Q17. What is the difference between a class variable and an instance variable ?\n",
        " - An instance variable is a variable that is tied to a specific instance (object) of a class. Each object has its own copy of the instance variables.\n",
        " - A class variable is a variable that is shared by all instances of a class. It is associated with the class itself, not individual instances, and is defined directly inside the class but outside any methods.\n",
        "\n",
        "Q18. What is multiple inheritance in Python ?\n",
        " - Multiple inheritance in Python is a feature that allows a class to inherit from more than one parent class. This enables a derived class to inherit methods and attributes from multiple base classes, which can be useful when you want to combine functionality from different sources.\n",
        "\n",
        "Q19.  Explain the purpose of __str__ and __repr__  methods in Python .\n",
        "\n",
        " - The __str__ method is used to define a human-readable string representation of an object. It is called when you use the str() function or print an object. The goal of __str__ is to provide a clear and easy-to-understand string output that is intended for users or display purposes.\n",
        " - The __repr__ method is used to define a formal string representation of an object, often aimed at developers. The goal of __repr__ is to provide a string that could, ideally, be used to recreate the object.\n",
        "\n",
        "Q20.  What is the significance of the super() function in Python ?\n",
        "\n",
        " - The super() function in Python is used to call a method from a parent class (superclass) from within a method in a child class (subclass). It allows you to access the parent class methods and attributes in a controlled and organized way, especially in the context of inheritance.\n",
        "\n",
        "Q21. What is the significance of the __del__ method in Python ?\n",
        " - The __del__ method in Python is a destructor method, which is called when an object is about to be destroyed or garbage collected. It allows you to clean up any resources\n",
        "\n",
        "Q22. What is the difference between @staticmethod and @classmethod in Python?\n",
        " - The @staticmethod decorator is used to define a method that does not operate on an instance of the class and does not require access to class-level attributes.\n",
        " - The @classmethod decorator is used to define a method that operates on the class itself, rather than an instance of the class.\n",
        "\n",
        "Q23. How does polymorphism work in Python with inheritance ?\n",
        " - When polymorphism is used with inheritance, a subclass can override a method that is defined in the parent class, allowing it to have its own specific behavior while still maintaining the same method signature. This enables objects of different classes to be treated in the same way, even though their behaviors might differ.\n",
        "\n",
        "Q24. What is method chaining in Python OOP ?\n",
        " - Method chaining in Python refers to the practice of calling multiple methods on the same object in a single line of code. This is possible when each method returns the object itself after performing an operation .\n",
        "\n",
        "Q25.  What is the purpose of the __call__ method in Python ?\n",
        " - the __call__ method is a special method that allows an instance of a class to be called like a function. When you define the __call__ method in a class, instances of that class can be invoked using parentheses () just like a regular function. This is often referred to as making an object callable.\n",
        "\n",
        "\n",
        "\n",
        "\n",
        "\n",
        "\n"
      ],
      "metadata": {
        "id": "Iz_4y0gB6nS8"
      }
    },
    {
      "cell_type": "code",
      "source": [
        "#1.Create a parent class Animal with a method speak() that prints a generic message. Create a child class Dog\n",
        "#that overrides the speak() method to print \"Bark!\".\n",
        "\n",
        "class Animal:\n",
        "    def speak(self):\n",
        "        print(\"The animal makes a sound.\")\n",
        "\n",
        "\n",
        "class Dog(Animal):\n",
        "    def speak(self):\n",
        "        print(\"Bark!\")\n",
        "\n",
        "\n",
        "animal = Animal()\n",
        "dog = Dog()\n",
        "\n",
        "\n",
        "animal.speak()\n",
        "dog.speak()\n"
      ],
      "metadata": {
        "colab": {
          "base_uri": "https://localhost:8080/"
        },
        "id": "-F9rRuaT6jv7",
        "outputId": "fafcfeed-2d50-40f3-e54a-25ca77221c6c"
      },
      "execution_count": 3,
      "outputs": [
        {
          "output_type": "stream",
          "name": "stdout",
          "text": [
            "The animal makes a sound.\n",
            "Bark!\n"
          ]
        }
      ]
    },
    {
      "cell_type": "code",
      "source": [
        "#2. Write a program to create an abstract class Shape with a method area(). Derive classes Circle and Rectangle\n",
        "#   from it and implement the area() method in both.\n",
        "\n",
        "\n",
        "from abc import ABC, abstractmethod\n",
        "import math\n",
        "\n",
        "class Shape(ABC):\n",
        "    @abstractmethod\n",
        "    def area(self):\n",
        "        pass\n",
        "\n",
        "class Circle(Shape):\n",
        "    def __init__(self, radius):\n",
        "        self.radius = radius\n",
        "\n",
        "    def area(self):\n",
        "        return math.pi * (self.radius ** 2)\n",
        "\n",
        "\n",
        "class Rectangle(Shape):\n",
        "    def __init__(self, length, width):\n",
        "        self.length = length\n",
        "        self.width = width\n",
        "\n",
        "    def area(self):\n",
        "        return self.length * self.width\n",
        "\n",
        "\n",
        "circle = Circle(5)\n",
        "rectangle = Rectangle(4, 6)\n",
        "\n",
        "\n",
        "print(f\"Area of the circle: {circle.area()}\")\n",
        "print(f\"Area of the rectangle: {rectangle.area()}\")\n",
        "\n"
      ],
      "metadata": {
        "colab": {
          "base_uri": "https://localhost:8080/"
        },
        "id": "ALIoqXFAIfGC",
        "outputId": "51509bb7-b0d7-4a28-fcb9-8894f734f78d"
      },
      "execution_count": 2,
      "outputs": [
        {
          "output_type": "stream",
          "name": "stdout",
          "text": [
            "Area of the circle: 78.53981633974483\n",
            "Area of the rectangle: 24\n"
          ]
        }
      ]
    },
    {
      "cell_type": "code",
      "source": [
        "#3 and 4 . Implement a multi-level inheritance scenario where a class Vehicle has an attribute type. Derive a class Car\n",
        "#     and further derive a class ElectricCar that adds a battery attribute.\n",
        "\n",
        "\n",
        "class Vehicle:\n",
        "    def __init__(self, type):\n",
        "        self.type = type\n",
        "\n",
        "    def display_info(self):\n",
        "        print(f\"Vehicle type: {self.type}\")\n",
        "\n",
        "\n",
        "class Car(Vehicle):\n",
        "    def __init__(self, type, brand):\n",
        "        super().__init__(type)\n",
        "        self.brand = brand\n",
        "\n",
        "    def display_info(self):\n",
        "        super().display_info()\n",
        "        print(f\"Car brand: {self.brand}\")\n",
        "\n",
        "\n",
        "class ElectricCar(Car):\n",
        "    def __init__(self, type, brand, battery_capacity):\n",
        "        super().__init__(type, brand)\n",
        "        self.battery_capacity = battery_capacity\n",
        "\n",
        "    def display_info(self):\n",
        "        super().display_info()\n",
        "        print(f\"Battery capacity: {self.battery_capacity} kWh\")\n",
        "\n",
        "\n",
        "electric_car = ElectricCar(\"Electric\", \"Tesla\", 75)\n",
        "electric_car.display_info()\n"
      ],
      "metadata": {
        "colab": {
          "base_uri": "https://localhost:8080/"
        },
        "id": "aAjW4py9I50Q",
        "outputId": "73455c15-68ed-48e1-f48f-db2fd5146157"
      },
      "execution_count": 1,
      "outputs": [
        {
          "output_type": "stream",
          "name": "stdout",
          "text": [
            "Vehicle type: Electric\n",
            "Car brand: Tesla\n",
            "Battery capacity: 75 kWh\n"
          ]
        }
      ]
    },
    {
      "cell_type": "code",
      "source": [
        "#5. Write a program to demonstrate encapsulation by creating a class BankAccount with private attributes\n",
        "#   balance and methods to deposit, withdraw, and check balance.\n",
        "\n",
        "class BankAccount:\n",
        "    def __init__(self, owner, balance=0):\n",
        "        self.owner = owner\n",
        "        self.__balance = balance\n",
        "\n",
        "\n",
        "    def deposit(self, amount):\n",
        "        if amount > 0:\n",
        "            self.__balance += amount\n",
        "            print(f\"Deposited {amount}. Current balance: {self.__balance}\")\n",
        "        else:\n",
        "            print(\"Deposit amount must be positive.\")\n",
        "\n",
        "\n",
        "    def withdraw(self, amount):\n",
        "        if 0 < amount <= self.__balance:\n",
        "            self.__balance -= amount\n",
        "            print(f\"Withdrew {amount}. Current balance: {self.__balance}\")\n",
        "        else:\n",
        "            print(\"Invalid withdrawal amount or insufficient funds.\")\n",
        "\n",
        "\n",
        "    def get_balance(self):\n",
        "        return self.__balance\n",
        "\n",
        "\n",
        "account = BankAccount(\"John Doe\", 1000)\n",
        "print(f\"Initial balance: {account.get_balance()}\")\n",
        "\n",
        "account.deposit(500)\n",
        "account.withdraw(300)\n",
        "print(f\"Final balance: {account.get_balance()}\")\n",
        "\n",
        "account.withdraw(1500)\n",
        "\n"
      ],
      "metadata": {
        "colab": {
          "base_uri": "https://localhost:8080/"
        },
        "id": "e2wcTigqJRAV",
        "outputId": "11d6d486-9814-4096-87ee-e088c3b678dd"
      },
      "execution_count": 4,
      "outputs": [
        {
          "output_type": "stream",
          "name": "stdout",
          "text": [
            "Initial balance: 1000\n",
            "Deposited 500. Current balance: 1500\n",
            "Withdrew 300. Current balance: 1200\n",
            "Final balance: 1200\n",
            "Invalid withdrawal amount or insufficient funds.\n"
          ]
        }
      ]
    },
    {
      "cell_type": "code",
      "source": [
        "#6.  Demonstrate runtime polymorphism using a method play() in a base class Instrument. Derive classes Guitar\n",
        "#    and Piano that implement their own version of play().\n",
        "\n",
        "\n",
        "class Instrument:\n",
        "    def play(self):\n",
        "        pass\n",
        "\n",
        "\n",
        "class Guitar(Instrument):\n",
        "    def play(self):\n",
        "        print(\"Playing the guitar!\")\n",
        "\n",
        "\n",
        "class Piano(Instrument):\n",
        "    def play(self):\n",
        "        print(\"Playing the piano!\")\n",
        "\n",
        "\n",
        "def demonstrate_play(instrument):\n",
        "    instrument.play()\n",
        "\n",
        "\n",
        "guitar = Guitar()\n",
        "piano = Piano()\n",
        "\n",
        "\n",
        "demonstrate_play(guitar)\n",
        "demonstrate_play(piano)\n"
      ],
      "metadata": {
        "colab": {
          "base_uri": "https://localhost:8080/"
        },
        "id": "0W7eGdMwJz4g",
        "outputId": "dba6a1b8-3426-4ec7-9f12-bc5db0da81ab"
      },
      "execution_count": 5,
      "outputs": [
        {
          "output_type": "stream",
          "name": "stdout",
          "text": [
            "Playing the guitar!\n",
            "Playing the piano!\n"
          ]
        }
      ]
    },
    {
      "cell_type": "code",
      "source": [
        "#7.  Create a class MathOperations with a class method add_numbers() to add two numbers and a static\n",
        "#    method subtract_numbers() to subtract two numbers.\n",
        "\n",
        "class MathOperations:\n",
        "    @classmethod\n",
        "    def add_numbers(cls, num1, num2):\n",
        "        return num1 + num2\n",
        "\n",
        "    @staticmethod\n",
        "    def subtract_numbers(num1, num2):\n",
        "        return num1 - num2\n",
        "\n",
        "\n",
        "sum_result = MathOperations.add_numbers(5, 3)\n",
        "print(f\"Sum: {sum_result}\")\n",
        "\n",
        "difference_result = MathOperations.subtract_numbers(10, 4)\n",
        "print(f\"Difference: {difference_result}\")\n"
      ],
      "metadata": {
        "colab": {
          "base_uri": "https://localhost:8080/"
        },
        "id": "XARLSly-KFaU",
        "outputId": "03f43794-fbd6-408b-eada-d1415b8e54ec"
      },
      "execution_count": 6,
      "outputs": [
        {
          "output_type": "stream",
          "name": "stdout",
          "text": [
            "Sum: 8\n",
            "Difference: 6\n"
          ]
        }
      ]
    },
    {
      "cell_type": "code",
      "source": [
        "#8.  Implement a class Person with a class method to count the total number of persons created\n",
        "\n",
        "class Person:\n",
        "    total_persons = 0\n",
        "\n",
        "    def __init__(self, name, age):\n",
        "        self.name = name\n",
        "        self.age = age\n",
        "        Person.total_persons += 1\n",
        "\n",
        "\n",
        "    @classmethod\n",
        "    def get_total_persons(cls):\n",
        "        return cls.total_persons\n",
        "\n",
        "person1 = Person(\"ME\", 30)\n",
        "person2 = Person(\"YOU\", 25)\n",
        "person3 = Person(\"MASKED GUY\", 35)\n",
        "\n",
        "\n",
        "print(f\"Total persons created: {Person.get_total_persons()}\")\n"
      ],
      "metadata": {
        "colab": {
          "base_uri": "https://localhost:8080/"
        },
        "id": "Qx8MqEZZKX0M",
        "outputId": "e0959129-0ffb-47f0-d403-e7aa0bbeae2a"
      },
      "execution_count": 8,
      "outputs": [
        {
          "output_type": "stream",
          "name": "stdout",
          "text": [
            "Total persons created: 3\n"
          ]
        }
      ]
    },
    {
      "cell_type": "code",
      "source": [
        "#9. Write a class Fraction with attributes numerator and denominator. Override the str method to display the\n",
        "#   fraction as \"numerator/denominator\".\n",
        "\n",
        "class Fraction:\n",
        "    def __init__(self, numerator, denominator):\n",
        "        self.numerator = numerator\n",
        "        self.denominator = denominator\n",
        "\n",
        "\n",
        "    def __str__(self):\n",
        "        return f\"{self.numerator}/{self.denominator}\"\n",
        "\n",
        "\n",
        "fraction = Fraction(3, 4)\n",
        "\n",
        "\n",
        "print(f\"Fraction: {fraction}\")\n",
        "\n"
      ],
      "metadata": {
        "colab": {
          "base_uri": "https://localhost:8080/"
        },
        "id": "FvPUBeXBLNSS",
        "outputId": "36c358a6-fb1d-484e-b029-c90fc0a10704"
      },
      "execution_count": 9,
      "outputs": [
        {
          "output_type": "stream",
          "name": "stdout",
          "text": [
            "Fraction: 3/4\n"
          ]
        }
      ]
    },
    {
      "cell_type": "code",
      "source": [
        "#10.  Demonstrate operator overloading by creating a class Vector and overriding the add method to add two\n",
        "#     vectors.\n",
        "\n",
        "class Vector:\n",
        "    def __init__(self, x, y):\n",
        "        self.x = x\n",
        "        self.y = y\n",
        "\n",
        "\n",
        "    def __add__(self, other):\n",
        "        if isinstance(other, Vector):\n",
        "            return Vector(self.x + other.x, self.y + other.y)\n",
        "        return NotImplemented\n",
        "\n",
        "\n",
        "    def __str__(self):\n",
        "        return f\"({self.x}, {self.y})\"\n",
        "\n",
        "\n",
        "vector1 = Vector(2, 3)\n",
        "vector2 = Vector(4, 5)\n",
        "\n",
        "\n",
        "result_vector = vector1 + vector2\n",
        "\n",
        "\n",
        "print(f\"Result of vector addition: {result_vector}\")\n",
        "#Had to take this from chat gpt cuz didnt knew what u meant by vectors.. pls dont deduct marks >w<"
      ],
      "metadata": {
        "colab": {
          "base_uri": "https://localhost:8080/"
        },
        "id": "tEPFh9MCLZY1",
        "outputId": "a3bdb834-0bf3-404e-fadc-e28915b7f0cf"
      },
      "execution_count": 11,
      "outputs": [
        {
          "output_type": "stream",
          "name": "stdout",
          "text": [
            "Result of vector addition: (6, 8)\n"
          ]
        }
      ]
    },
    {
      "cell_type": "code",
      "source": [
        "#11.  Create a class Person with attributes name and age. Add a method greet() that prints \"Hello, my name is\n",
        "#     {name} and I am {age} years old.\n",
        "\n",
        "class Person:\n",
        "    def __init__(self, name, age):\n",
        "        self.name = name\n",
        "        self.age = age\n",
        "\n",
        "\n",
        "    def greet(self):\n",
        "        print(f\"Hello, my name is {self.name} and I am {self.age} years old.\")\n",
        "\n",
        "\n",
        "person1 = Person(\"Hariom\", 20)\n",
        "\n",
        "\n",
        "person1.greet()\n"
      ],
      "metadata": {
        "colab": {
          "base_uri": "https://localhost:8080/"
        },
        "id": "gJlwPau5L3lZ",
        "outputId": "0ecd48b4-25e5-403f-85f7-47b69fb6c264"
      },
      "execution_count": 10,
      "outputs": [
        {
          "output_type": "stream",
          "name": "stdout",
          "text": [
            "Hello, my name is Hariom and I am 20 years old.\n"
          ]
        }
      ]
    },
    {
      "cell_type": "code",
      "source": [
        "#12.  Implement a class Student with attributes name and grades. Create a method average_grade() to compute\n",
        "#     the average of the grades.\n",
        "\n",
        "class Student:\n",
        "    def __init__(self, name, grades):\n",
        "        self.name = name\n",
        "        self.grades = grades\n",
        "\n",
        "\n",
        "    def average_grade(self):\n",
        "        if len(self.grades) > 0:\n",
        "            return sum(self.grades) / len(self.grades)\n",
        "        else:\n",
        "            return 0\n",
        "\n",
        "\n",
        "student1 = Student(\"Hariom\", [85, 90, 78, 92, 88])\n",
        "\n",
        "\n",
        "average = student1.average_grade()\n",
        "print(f\"{student1.name}'s average grade is: {average:.2f}\")\n"
      ],
      "metadata": {
        "colab": {
          "base_uri": "https://localhost:8080/"
        },
        "id": "eg9BldxFMGP_",
        "outputId": "24783286-d757-41bd-da65-f98e8cad31ea"
      },
      "execution_count": 12,
      "outputs": [
        {
          "output_type": "stream",
          "name": "stdout",
          "text": [
            "Hariom's average grade is: 86.60\n"
          ]
        }
      ]
    },
    {
      "cell_type": "code",
      "source": [
        "#13. Create a class Rectangle with methods set_dimensions() to set the dimensions and area() to calculate the area.\n",
        "\n",
        "class Rectangle:\n",
        "    def __init__(self):\n",
        "        self.length = 0\n",
        "        self.width = 0\n",
        "\n",
        "    def set_dimensions(self, length, width):\n",
        "        self.length = length\n",
        "        self.width = width\n",
        "\n",
        "    def area(self):\n",
        "        return self.length * self.width\n",
        "\n",
        "\n",
        "rect = Rectangle()\n",
        "rect.set_dimensions(5, 3)\n",
        "\n",
        "\n",
        "print(f\"The area of the rectangle is: {rect.area()}\")\n"
      ],
      "metadata": {
        "colab": {
          "base_uri": "https://localhost:8080/"
        },
        "id": "IOeos3wdMYDo",
        "outputId": "38672cfd-0615-4ddc-b0bc-3d92c4c774d6"
      },
      "execution_count": 13,
      "outputs": [
        {
          "output_type": "stream",
          "name": "stdout",
          "text": [
            "The area of the rectangle is: 15\n"
          ]
        }
      ]
    },
    {
      "cell_type": "code",
      "source": [
        "#14.  Create a class Employee with a method calculate_salary() that computes the salary based on hours worked\n",
        "#     and hourly rate. Create a derived class Manager that adds a bonus to the salary.\n",
        "\n",
        "\n",
        "class Employee:\n",
        "    def __init__(self, name, hours_worked, hourly_rate):\n",
        "        self.name = name\n",
        "        self.hours_worked = hours_worked\n",
        "        self.hourly_rate = hourly_rate\n",
        "\n",
        "    def calculate_salary(self):\n",
        "        return self.hours_worked * self.hourly_rate\n",
        "\n",
        "\n",
        "class Manager(Employee):\n",
        "    def __init__(self, name, hours_worked, hourly_rate, bonus):\n",
        "        super().__init__(name, hours_worked, hourly_rate)\n",
        "        self.bonus = bonus\n",
        "\n",
        "\n",
        "    def calculate_salary(self):\n",
        "        base_salary = super().calculate_salary()\n",
        "        return base_salary + self.bonus\n",
        "\n",
        "\n",
        "employee = Employee(\"Hariom\", 160, 200)\n",
        "print(f\"Employee {employee.name}'s salary: rupees {employee.calculate_salary()}\")\n",
        "\n",
        "\n",
        "manager = Manager(\"Mansi\", 160, 250, 1000)\n",
        "print(f\"Manager {manager.name}'s salary: rupees {manager.calculate_salary()}\")  #\n"
      ],
      "metadata": {
        "colab": {
          "base_uri": "https://localhost:8080/"
        },
        "id": "i3jBE2_HMmj2",
        "outputId": "fceea43a-983b-4339-9f0f-ef46d2066cc3"
      },
      "execution_count": 15,
      "outputs": [
        {
          "output_type": "stream",
          "name": "stdout",
          "text": [
            "Employee Hariom's salary: rupees 32000\n",
            "Manager Mansi's salary: rupees 41000\n"
          ]
        }
      ]
    },
    {
      "cell_type": "code",
      "source": [
        "#15.  Create a class Product with attributes name, price, and quantity. Implement a method total_price() that\n",
        "#     calculates the total price of the product.\n",
        "\n",
        "class Product:\n",
        "    def __init__(self, name, price, quantity):\n",
        "        self.name = name\n",
        "        self.price = price\n",
        "        self.quantity = quantity\n",
        "\n",
        "    def total_price(self):\n",
        "        return self.price * self.quantity\n",
        "\n",
        "\n",
        "product1 = Product(\"Laptop\", 50000, 2)\n",
        "\n",
        "\n",
        "print(f\"The total price of {product1.name} is: ₹{product1.total_price()}\")\n"
      ],
      "metadata": {
        "colab": {
          "base_uri": "https://localhost:8080/"
        },
        "id": "JiEgViD_NK5e",
        "outputId": "2a5e5c12-1f6d-4d44-841d-f3ef2b3ed676"
      },
      "execution_count": 16,
      "outputs": [
        {
          "output_type": "stream",
          "name": "stdout",
          "text": [
            "The total price of Laptop is: ₹100000\n"
          ]
        }
      ]
    },
    {
      "cell_type": "code",
      "source": [
        "#16.  Create a class Animal with an abstract method sound(). Create two derived classes Cow and Sheep that\n",
        "#     implement the sound() method.\n",
        "\n",
        "from abc import ABC, abstractmethod\n",
        "\n",
        "class Animal(ABC):\n",
        "    @abstractmethod\n",
        "    def sound(self):\n",
        "        pass\n",
        "\n",
        "\n",
        "class Cow(Animal):\n",
        "    def sound(self):\n",
        "        return \"Moo\"\n",
        "\n",
        "\n",
        "class Sheep(Animal):\n",
        "    def sound(self):\n",
        "        return \"Baa\"\n",
        "\n",
        "cow = Cow()\n",
        "sheep = Sheep()\n",
        "\n",
        "\n",
        "print(f\"The sound of a cow is: {cow.sound()}\")\n",
        "print(f\"The sound of a sheep is: {sheep.sound()}\")\n"
      ],
      "metadata": {
        "colab": {
          "base_uri": "https://localhost:8080/"
        },
        "id": "Y4n6pxJrNXLw",
        "outputId": "52c463b2-9056-46b5-cc52-faa7109f17cd"
      },
      "execution_count": 17,
      "outputs": [
        {
          "output_type": "stream",
          "name": "stdout",
          "text": [
            "The sound of a cow is: Moo\n",
            "The sound of a sheep is: Baa\n"
          ]
        }
      ]
    },
    {
      "cell_type": "code",
      "source": [
        "#17.  Create a class Book with attributes title, author, and year_published. Add a method get_book_info() that\n",
        "#     returns a formatted string with the book's details.\n",
        "\n",
        "class Book:\n",
        "    def __init__(self, title, author, year_published):\n",
        "        self.title = title\n",
        "        self.author = author\n",
        "        self.year_published = year_published\n",
        "\n",
        "    def get_book_info(self):\n",
        "        return f\"Title: {self.title}, Author: {self.author}, Year Published: {self.year_published}\"\n",
        "\n",
        "\n",
        "book1 = Book(\"One piece\", \"Eichiro Oda\", 1960)\n",
        "\n",
        "\n",
        "print(book1.get_book_info())\n",
        "\n"
      ],
      "metadata": {
        "colab": {
          "base_uri": "https://localhost:8080/"
        },
        "id": "v7FhIygVNiZe",
        "outputId": "49ebf3d3-da4a-40f6-a827-e3b96903059c"
      },
      "execution_count": 18,
      "outputs": [
        {
          "output_type": "stream",
          "name": "stdout",
          "text": [
            "Title: One piece, Author: Eichiro Oda, Year Published: 1960\n"
          ]
        }
      ]
    },
    {
      "cell_type": "code",
      "source": [
        "#18.  Create a class House with attributes address and price. Create a derived class Mansion that adds an\n",
        "#     attribute number_of_rooms.\n",
        "\n",
        "class House:\n",
        "    def __init__(self, address, price):\n",
        "        self.address = address\n",
        "        self.price = price\n",
        "\n",
        "    def get_house_info(self):\n",
        "        return f\"Address: {self.address}, Price: rs {self.price}\"\n",
        "\n",
        "\n",
        "class Mansion(House):\n",
        "    def __init__(self, address, price, number_of_rooms):\n",
        "        super().__init__(address, price)\n",
        "        self.number_of_rooms = number_of_rooms\n",
        "\n",
        "    def get_mansion_info(self):\n",
        "        return f\"{self.get_house_info()}, Number of Rooms: {self.number_of_rooms}\"\n",
        "\n",
        "\n",
        "house = House(\"123 street a \", 250000)\n",
        "\n",
        "\n",
        "mansion = Mansion(\"456 street a \", 1200000, 10)\n",
        "\n",
        "\n",
        "print(house.get_house_info())\n",
        "print(mansion.get_mansion_info())\n"
      ],
      "metadata": {
        "colab": {
          "base_uri": "https://localhost:8080/"
        },
        "id": "W_pN-Wp7Nsw-",
        "outputId": "d555ac3e-86b1-46a0-efe9-14a174280a64"
      },
      "execution_count": 20,
      "outputs": [
        {
          "output_type": "stream",
          "name": "stdout",
          "text": [
            "Address: 123 street a , Price: rs 250000\n",
            "Address: 456 street a , Price: rs 1200000, Number of Rooms: 10\n"
          ]
        }
      ]
    },
    {
      "cell_type": "code",
      "source": [],
      "metadata": {
        "id": "lO93ELoSOOsP"
      },
      "execution_count": null,
      "outputs": []
    }
  ]
}